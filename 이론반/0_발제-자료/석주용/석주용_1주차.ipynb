{
 "cells": [
  {
   "cell_type": "code",
   "execution_count": 9,
   "metadata": {},
   "outputs": [
    {
     "name": "stdout",
     "output_type": "stream",
     "text": [
      "1\n"
     ]
    }
   ],
   "source": [
    "# 체스판 다시 칠하기\n",
    "n, m = map(int, input().split())\n",
    "board = []\n",
    "result = []\n",
    "\n",
    "for _ in range(n):\n",
    "    board.append(input())\n",
    "\n",
    "for i in range(n-7):\n",
    "    for j in range(m-7):\n",
    "        draw1 = 0\n",
    "        draw2 = 0\n",
    "\n",
    "        for a in range(i, i+8):\n",
    "            for b in range(j, j+8):\n",
    "                if (a+b) % 2 == 0:\n",
    "                    if board[a][b] != 'B':\n",
    "                        draw1 += 1\n",
    "                    if board[a][b] != 'W':\n",
    "                        draw2 += 1\n",
    "                else:\n",
    "                    if board[a][b] != 'W':\n",
    "                        draw1 += 1\n",
    "                    if board[a][b] != 'B':\n",
    "                        draw2 += 1\n",
    "        \n",
    "        result.append(draw1)\n",
    "        result.append(draw2)\n",
    "\n",
    "print(min(result))"
   ]
  },
  {
   "cell_type": "code",
   "execution_count": 13,
   "metadata": {},
   "outputs": [],
   "source": [
    "# 좌표 문제\n",
    "n = int(input())\n",
    "arr = list(map(int, input().split()))\n",
    "\n",
    "sortArr = sorted(list(set(arr)))\n",
    "dic = {}\n",
    "for idx, item in enumerate(sortArr):\n",
    "    dic[item] = idx\n",
    "\n",
    "for item in arr:\n",
    "    print(dic[item], end=' ')"
   ]
  },
  {
   "cell_type": "code",
   "execution_count": null,
   "metadata": {},
   "outputs": [],
   "source": []
  }
 ],
 "metadata": {
  "kernelspec": {
   "display_name": "base",
   "language": "python",
   "name": "python3"
  },
  "language_info": {
   "codemirror_mode": {
    "name": "ipython",
    "version": 3
   },
   "file_extension": ".py",
   "mimetype": "text/x-python",
   "name": "python",
   "nbconvert_exporter": "python",
   "pygments_lexer": "ipython3",
   "version": "3.11.7"
  }
 },
 "nbformat": 4,
 "nbformat_minor": 2
}
